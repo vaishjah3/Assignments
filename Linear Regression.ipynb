{
  "nbformat": 4,
  "nbformat_minor": 0,
  "metadata": {
    "colab": {
      "provenance": []
    },
    "kernelspec": {
      "name": "python3",
      "display_name": "Python 3"
    },
    "language_info": {
      "name": "python"
    }
  },
  "cells": [
    {
      "cell_type": "code",
      "execution_count": null,
      "metadata": {
        "id": "sKEcHwYnw1gQ"
      },
      "outputs": [],
      "source": [
        "import numpy as np\n",
        "import pandas as pd\n",
        "from matplotlib import pyplot as plt\n",
        "import seaborn as sns\n",
        "from statsmodels import api\n",
        "from scipy import stats\n",
        "from scipy.optimize import minimize"
      ]
    },
    {
      "cell_type": "code",
      "source": [
        "#f = open('/content/nasdaq00.txt', encoding='utf8')\n",
        "x = pd.read_csv('/content/nasdaq00.txt', sep=',', header=None, index_col=None)\n",
        "print( )\n",
        "print(x.iloc[2][0])\n",
        "print(x.iloc[3][0])\n",
        "print(x.iloc[4][0])\n",
        "#print(len(x))\n",
        "#print(x.describe())"
      ],
      "metadata": {
        "colab": {
          "base_uri": "https://localhost:8080/"
        },
        "id": "CP8_cnJgyAIq",
        "outputId": "401ae13a-01ea-456a-ac18-b01f15cf7ea8"
      },
      "execution_count": null,
      "outputs": [
        {
          "output_type": "stream",
          "name": "stdout",
          "text": [
            "3711.09\n",
            "4002.23\n",
            "4031.38\n",
            "3950.95\n"
          ]
        }
      ]
    },
    {
      "cell_type": "code",
      "source": [
        "data=[]\n",
        "for t in range(4,len(x)):\n",
        "  data.append([x.iloc[t-1][0], x.iloc[t-2][0], x.iloc[t-3][0],x.iloc[t][0]])\n",
        "  df = pd.DataFrame(data, columns=['x1', 'x2', 'x3', 'y'])\n",
        "print(df)"
      ],
      "metadata": {
        "colab": {
          "base_uri": "https://localhost:8080/"
        },
        "id": "PEXUZUG1FOWY",
        "outputId": "2e989ec0-af64-4768-9c94-0b518cc95722"
      },
      "execution_count": null,
      "outputs": [
        {
          "output_type": "stream",
          "name": "stdout",
          "text": [
            "          x1       x2       x3        y\n",
            "0    4031.38  4002.23  3711.09  3950.95\n",
            "1    3950.95  4031.38  4002.23  3915.14\n",
            "2    3915.14  3950.95  4031.38  4045.72\n",
            "3    4045.72  3915.14  3950.95  4059.65\n",
            "4    4059.65  4045.72  3915.14  4116.27\n",
            "..       ...      ...      ...      ...\n",
            "240  2310.21  2410.96  2617.06  2397.67\n",
            "241  2397.67  2310.21  2410.96  2518.29\n",
            "242  2518.29  2397.67  2310.21  2471.33\n",
            "243  2471.33  2518.29  2397.67  2517.90\n",
            "244  2517.90  2471.33  2518.29  2552.68\n",
            "\n",
            "[245 rows x 4 columns]\n"
          ]
        }
      ]
    },
    {
      "cell_type": "code",
      "source": [
        "df.isnull().sum()"
      ],
      "metadata": {
        "colab": {
          "base_uri": "https://localhost:8080/"
        },
        "id": "wy4r4EfRLr4D",
        "outputId": "8c347f51-da6f-4b56-eb55-58f283c5d9b7"
      },
      "execution_count": null,
      "outputs": [
        {
          "output_type": "execute_result",
          "data": {
            "text/plain": [
              "x1    0\n",
              "x2    0\n",
              "x3    0\n",
              "y     0\n",
              "dtype: int64"
            ]
          },
          "metadata": {},
          "execution_count": 73
        }
      ]
    },
    {
      "cell_type": "code",
      "source": [
        "X=df.drop(columns='y')\n",
        "X"
      ],
      "metadata": {
        "colab": {
          "base_uri": "https://localhost:8080/",
          "height": 423
        },
        "id": "SqGBxdLO_Fey",
        "outputId": "8e92ee2b-ec61-4148-85bb-a2c72c37b6fe"
      },
      "execution_count": null,
      "outputs": [
        {
          "output_type": "execute_result",
          "data": {
            "text/plain": [
              "          x1       x2       x3\n",
              "0    4031.38  4002.23  3711.09\n",
              "1    3950.95  4031.38  4002.23\n",
              "2    3915.14  3950.95  4031.38\n",
              "3    4045.72  3915.14  3950.95\n",
              "4    4059.65  4045.72  3915.14\n",
              "..       ...      ...      ...\n",
              "240  2310.21  2410.96  2617.06\n",
              "241  2397.67  2310.21  2410.96\n",
              "242  2518.29  2397.67  2310.21\n",
              "243  2471.33  2518.29  2397.67\n",
              "244  2517.90  2471.33  2518.29\n",
              "\n",
              "[245 rows x 3 columns]"
            ],
            "text/html": [
              "\n",
              "  <div id=\"df-543de8b8-6b54-4a96-9205-e5ed8fb983dc\" class=\"colab-df-container\">\n",
              "    <div>\n",
              "<style scoped>\n",
              "    .dataframe tbody tr th:only-of-type {\n",
              "        vertical-align: middle;\n",
              "    }\n",
              "\n",
              "    .dataframe tbody tr th {\n",
              "        vertical-align: top;\n",
              "    }\n",
              "\n",
              "    .dataframe thead th {\n",
              "        text-align: right;\n",
              "    }\n",
              "</style>\n",
              "<table border=\"1\" class=\"dataframe\">\n",
              "  <thead>\n",
              "    <tr style=\"text-align: right;\">\n",
              "      <th></th>\n",
              "      <th>x1</th>\n",
              "      <th>x2</th>\n",
              "      <th>x3</th>\n",
              "    </tr>\n",
              "  </thead>\n",
              "  <tbody>\n",
              "    <tr>\n",
              "      <th>0</th>\n",
              "      <td>4031.38</td>\n",
              "      <td>4002.23</td>\n",
              "      <td>3711.09</td>\n",
              "    </tr>\n",
              "    <tr>\n",
              "      <th>1</th>\n",
              "      <td>3950.95</td>\n",
              "      <td>4031.38</td>\n",
              "      <td>4002.23</td>\n",
              "    </tr>\n",
              "    <tr>\n",
              "      <th>2</th>\n",
              "      <td>3915.14</td>\n",
              "      <td>3950.95</td>\n",
              "      <td>4031.38</td>\n",
              "    </tr>\n",
              "    <tr>\n",
              "      <th>3</th>\n",
              "      <td>4045.72</td>\n",
              "      <td>3915.14</td>\n",
              "      <td>3950.95</td>\n",
              "    </tr>\n",
              "    <tr>\n",
              "      <th>4</th>\n",
              "      <td>4059.65</td>\n",
              "      <td>4045.72</td>\n",
              "      <td>3915.14</td>\n",
              "    </tr>\n",
              "    <tr>\n",
              "      <th>...</th>\n",
              "      <td>...</td>\n",
              "      <td>...</td>\n",
              "      <td>...</td>\n",
              "    </tr>\n",
              "    <tr>\n",
              "      <th>240</th>\n",
              "      <td>2310.21</td>\n",
              "      <td>2410.96</td>\n",
              "      <td>2617.06</td>\n",
              "    </tr>\n",
              "    <tr>\n",
              "      <th>241</th>\n",
              "      <td>2397.67</td>\n",
              "      <td>2310.21</td>\n",
              "      <td>2410.96</td>\n",
              "    </tr>\n",
              "    <tr>\n",
              "      <th>242</th>\n",
              "      <td>2518.29</td>\n",
              "      <td>2397.67</td>\n",
              "      <td>2310.21</td>\n",
              "    </tr>\n",
              "    <tr>\n",
              "      <th>243</th>\n",
              "      <td>2471.33</td>\n",
              "      <td>2518.29</td>\n",
              "      <td>2397.67</td>\n",
              "    </tr>\n",
              "    <tr>\n",
              "      <th>244</th>\n",
              "      <td>2517.90</td>\n",
              "      <td>2471.33</td>\n",
              "      <td>2518.29</td>\n",
              "    </tr>\n",
              "  </tbody>\n",
              "</table>\n",
              "<p>245 rows × 3 columns</p>\n",
              "</div>\n",
              "    <div class=\"colab-df-buttons\">\n",
              "\n",
              "  <div class=\"colab-df-container\">\n",
              "    <button class=\"colab-df-convert\" onclick=\"convertToInteractive('df-543de8b8-6b54-4a96-9205-e5ed8fb983dc')\"\n",
              "            title=\"Convert this dataframe to an interactive table.\"\n",
              "            style=\"display:none;\">\n",
              "\n",
              "  <svg xmlns=\"http://www.w3.org/2000/svg\" height=\"24px\" viewBox=\"0 -960 960 960\">\n",
              "    <path d=\"M120-120v-720h720v720H120Zm60-500h600v-160H180v160Zm220 220h160v-160H400v160Zm0 220h160v-160H400v160ZM180-400h160v-160H180v160Zm440 0h160v-160H620v160ZM180-180h160v-160H180v160Zm440 0h160v-160H620v160Z\"/>\n",
              "  </svg>\n",
              "    </button>\n",
              "\n",
              "  <style>\n",
              "    .colab-df-container {\n",
              "      display:flex;\n",
              "      gap: 12px;\n",
              "    }\n",
              "\n",
              "    .colab-df-convert {\n",
              "      background-color: #E8F0FE;\n",
              "      border: none;\n",
              "      border-radius: 50%;\n",
              "      cursor: pointer;\n",
              "      display: none;\n",
              "      fill: #1967D2;\n",
              "      height: 32px;\n",
              "      padding: 0 0 0 0;\n",
              "      width: 32px;\n",
              "    }\n",
              "\n",
              "    .colab-df-convert:hover {\n",
              "      background-color: #E2EBFA;\n",
              "      box-shadow: 0px 1px 2px rgba(60, 64, 67, 0.3), 0px 1px 3px 1px rgba(60, 64, 67, 0.15);\n",
              "      fill: #174EA6;\n",
              "    }\n",
              "\n",
              "    .colab-df-buttons div {\n",
              "      margin-bottom: 4px;\n",
              "    }\n",
              "\n",
              "    [theme=dark] .colab-df-convert {\n",
              "      background-color: #3B4455;\n",
              "      fill: #D2E3FC;\n",
              "    }\n",
              "\n",
              "    [theme=dark] .colab-df-convert:hover {\n",
              "      background-color: #434B5C;\n",
              "      box-shadow: 0px 1px 3px 1px rgba(0, 0, 0, 0.15);\n",
              "      filter: drop-shadow(0px 1px 2px rgba(0, 0, 0, 0.3));\n",
              "      fill: #FFFFFF;\n",
              "    }\n",
              "  </style>\n",
              "\n",
              "    <script>\n",
              "      const buttonEl =\n",
              "        document.querySelector('#df-543de8b8-6b54-4a96-9205-e5ed8fb983dc button.colab-df-convert');\n",
              "      buttonEl.style.display =\n",
              "        google.colab.kernel.accessAllowed ? 'block' : 'none';\n",
              "\n",
              "      async function convertToInteractive(key) {\n",
              "        const element = document.querySelector('#df-543de8b8-6b54-4a96-9205-e5ed8fb983dc');\n",
              "        const dataTable =\n",
              "          await google.colab.kernel.invokeFunction('convertToInteractive',\n",
              "                                                    [key], {});\n",
              "        if (!dataTable) return;\n",
              "\n",
              "        const docLinkHtml = 'Like what you see? Visit the ' +\n",
              "          '<a target=\"_blank\" href=https://colab.research.google.com/notebooks/data_table.ipynb>data table notebook</a>'\n",
              "          + ' to learn more about interactive tables.';\n",
              "        element.innerHTML = '';\n",
              "        dataTable['output_type'] = 'display_data';\n",
              "        await google.colab.output.renderOutput(dataTable, element);\n",
              "        const docLink = document.createElement('div');\n",
              "        docLink.innerHTML = docLinkHtml;\n",
              "        element.appendChild(docLink);\n",
              "      }\n",
              "    </script>\n",
              "  </div>\n",
              "\n",
              "\n",
              "<div id=\"df-3e0f0c05-20e0-4c58-962c-87a617d8d1b9\">\n",
              "  <button class=\"colab-df-quickchart\" onclick=\"quickchart('df-3e0f0c05-20e0-4c58-962c-87a617d8d1b9')\"\n",
              "            title=\"Suggest charts\"\n",
              "            style=\"display:none;\">\n",
              "\n",
              "<svg xmlns=\"http://www.w3.org/2000/svg\" height=\"24px\"viewBox=\"0 0 24 24\"\n",
              "     width=\"24px\">\n",
              "    <g>\n",
              "        <path d=\"M19 3H5c-1.1 0-2 .9-2 2v14c0 1.1.9 2 2 2h14c1.1 0 2-.9 2-2V5c0-1.1-.9-2-2-2zM9 17H7v-7h2v7zm4 0h-2V7h2v10zm4 0h-2v-4h2v4z\"/>\n",
              "    </g>\n",
              "</svg>\n",
              "  </button>\n",
              "\n",
              "<style>\n",
              "  .colab-df-quickchart {\n",
              "      --bg-color: #E8F0FE;\n",
              "      --fill-color: #1967D2;\n",
              "      --hover-bg-color: #E2EBFA;\n",
              "      --hover-fill-color: #174EA6;\n",
              "      --disabled-fill-color: #AAA;\n",
              "      --disabled-bg-color: #DDD;\n",
              "  }\n",
              "\n",
              "  [theme=dark] .colab-df-quickchart {\n",
              "      --bg-color: #3B4455;\n",
              "      --fill-color: #D2E3FC;\n",
              "      --hover-bg-color: #434B5C;\n",
              "      --hover-fill-color: #FFFFFF;\n",
              "      --disabled-bg-color: #3B4455;\n",
              "      --disabled-fill-color: #666;\n",
              "  }\n",
              "\n",
              "  .colab-df-quickchart {\n",
              "    background-color: var(--bg-color);\n",
              "    border: none;\n",
              "    border-radius: 50%;\n",
              "    cursor: pointer;\n",
              "    display: none;\n",
              "    fill: var(--fill-color);\n",
              "    height: 32px;\n",
              "    padding: 0;\n",
              "    width: 32px;\n",
              "  }\n",
              "\n",
              "  .colab-df-quickchart:hover {\n",
              "    background-color: var(--hover-bg-color);\n",
              "    box-shadow: 0 1px 2px rgba(60, 64, 67, 0.3), 0 1px 3px 1px rgba(60, 64, 67, 0.15);\n",
              "    fill: var(--button-hover-fill-color);\n",
              "  }\n",
              "\n",
              "  .colab-df-quickchart-complete:disabled,\n",
              "  .colab-df-quickchart-complete:disabled:hover {\n",
              "    background-color: var(--disabled-bg-color);\n",
              "    fill: var(--disabled-fill-color);\n",
              "    box-shadow: none;\n",
              "  }\n",
              "\n",
              "  .colab-df-spinner {\n",
              "    border: 2px solid var(--fill-color);\n",
              "    border-color: transparent;\n",
              "    border-bottom-color: var(--fill-color);\n",
              "    animation:\n",
              "      spin 1s steps(1) infinite;\n",
              "  }\n",
              "\n",
              "  @keyframes spin {\n",
              "    0% {\n",
              "      border-color: transparent;\n",
              "      border-bottom-color: var(--fill-color);\n",
              "      border-left-color: var(--fill-color);\n",
              "    }\n",
              "    20% {\n",
              "      border-color: transparent;\n",
              "      border-left-color: var(--fill-color);\n",
              "      border-top-color: var(--fill-color);\n",
              "    }\n",
              "    30% {\n",
              "      border-color: transparent;\n",
              "      border-left-color: var(--fill-color);\n",
              "      border-top-color: var(--fill-color);\n",
              "      border-right-color: var(--fill-color);\n",
              "    }\n",
              "    40% {\n",
              "      border-color: transparent;\n",
              "      border-right-color: var(--fill-color);\n",
              "      border-top-color: var(--fill-color);\n",
              "    }\n",
              "    60% {\n",
              "      border-color: transparent;\n",
              "      border-right-color: var(--fill-color);\n",
              "    }\n",
              "    80% {\n",
              "      border-color: transparent;\n",
              "      border-right-color: var(--fill-color);\n",
              "      border-bottom-color: var(--fill-color);\n",
              "    }\n",
              "    90% {\n",
              "      border-color: transparent;\n",
              "      border-bottom-color: var(--fill-color);\n",
              "    }\n",
              "  }\n",
              "</style>\n",
              "\n",
              "  <script>\n",
              "    async function quickchart(key) {\n",
              "      const quickchartButtonEl =\n",
              "        document.querySelector('#' + key + ' button');\n",
              "      quickchartButtonEl.disabled = true;  // To prevent multiple clicks.\n",
              "      quickchartButtonEl.classList.add('colab-df-spinner');\n",
              "      try {\n",
              "        const charts = await google.colab.kernel.invokeFunction(\n",
              "            'suggestCharts', [key], {});\n",
              "      } catch (error) {\n",
              "        console.error('Error during call to suggestCharts:', error);\n",
              "      }\n",
              "      quickchartButtonEl.classList.remove('colab-df-spinner');\n",
              "      quickchartButtonEl.classList.add('colab-df-quickchart-complete');\n",
              "    }\n",
              "    (() => {\n",
              "      let quickchartButtonEl =\n",
              "        document.querySelector('#df-3e0f0c05-20e0-4c58-962c-87a617d8d1b9 button');\n",
              "      quickchartButtonEl.style.display =\n",
              "        google.colab.kernel.accessAllowed ? 'block' : 'none';\n",
              "    })();\n",
              "  </script>\n",
              "</div>\n",
              "    </div>\n",
              "  </div>\n"
            ]
          },
          "metadata": {},
          "execution_count": 76
        }
      ]
    },
    {
      "cell_type": "code",
      "source": [
        "Y=df['y']\n",
        "Y"
      ],
      "metadata": {
        "colab": {
          "base_uri": "https://localhost:8080/"
        },
        "id": "CxjiwVHPOoJQ",
        "outputId": "bc2b8fc1-7193-4670-cd86-a7ca4cfef05c"
      },
      "execution_count": null,
      "outputs": [
        {
          "output_type": "execute_result",
          "data": {
            "text/plain": [
              "0      3950.95\n",
              "1      3915.14\n",
              "2      4045.72\n",
              "3      4059.65\n",
              "4      4116.27\n",
              "        ...   \n",
              "240    2397.67\n",
              "241    2518.29\n",
              "242    2471.33\n",
              "243    2517.90\n",
              "244    2552.68\n",
              "Name: y, Length: 245, dtype: float64"
            ]
          },
          "metadata": {},
          "execution_count": 77
        }
      ]
    },
    {
      "cell_type": "code",
      "source": [
        "from sklearn.model_selection import train_test_split\n",
        "X_train, X_test, Y_train, Y_test= train_test_split(X, Y, test_size=0.15, random_state=0)"
      ],
      "metadata": {
        "id": "O2JzGFBmO9v4"
      },
      "execution_count": null,
      "outputs": []
    },
    {
      "cell_type": "code",
      "source": [
        "from sklearn.linear_model import LinearRegression\n",
        "lr=LinearRegression()"
      ],
      "metadata": {
        "id": "CG902AT9Q3VD"
      },
      "execution_count": null,
      "outputs": []
    },
    {
      "cell_type": "code",
      "source": [
        "lr.fit(X_train, Y_train)"
      ],
      "metadata": {
        "colab": {
          "base_uri": "https://localhost:8080/",
          "height": 75
        },
        "id": "jmRwO30PR4a-",
        "outputId": "c7382b9f-1afa-4dc5-a4e2-8816d4fcdbe6"
      },
      "execution_count": null,
      "outputs": [
        {
          "output_type": "execute_result",
          "data": {
            "text/plain": [
              "LinearRegression()"
            ],
            "text/html": [
              "<style>#sk-container-id-7 {color: black;background-color: white;}#sk-container-id-7 pre{padding: 0;}#sk-container-id-7 div.sk-toggleable {background-color: white;}#sk-container-id-7 label.sk-toggleable__label {cursor: pointer;display: block;width: 100%;margin-bottom: 0;padding: 0.3em;box-sizing: border-box;text-align: center;}#sk-container-id-7 label.sk-toggleable__label-arrow:before {content: \"▸\";float: left;margin-right: 0.25em;color: #696969;}#sk-container-id-7 label.sk-toggleable__label-arrow:hover:before {color: black;}#sk-container-id-7 div.sk-estimator:hover label.sk-toggleable__label-arrow:before {color: black;}#sk-container-id-7 div.sk-toggleable__content {max-height: 0;max-width: 0;overflow: hidden;text-align: left;background-color: #f0f8ff;}#sk-container-id-7 div.sk-toggleable__content pre {margin: 0.2em;color: black;border-radius: 0.25em;background-color: #f0f8ff;}#sk-container-id-7 input.sk-toggleable__control:checked~div.sk-toggleable__content {max-height: 200px;max-width: 100%;overflow: auto;}#sk-container-id-7 input.sk-toggleable__control:checked~label.sk-toggleable__label-arrow:before {content: \"▾\";}#sk-container-id-7 div.sk-estimator input.sk-toggleable__control:checked~label.sk-toggleable__label {background-color: #d4ebff;}#sk-container-id-7 div.sk-label input.sk-toggleable__control:checked~label.sk-toggleable__label {background-color: #d4ebff;}#sk-container-id-7 input.sk-hidden--visually {border: 0;clip: rect(1px 1px 1px 1px);clip: rect(1px, 1px, 1px, 1px);height: 1px;margin: -1px;overflow: hidden;padding: 0;position: absolute;width: 1px;}#sk-container-id-7 div.sk-estimator {font-family: monospace;background-color: #f0f8ff;border: 1px dotted black;border-radius: 0.25em;box-sizing: border-box;margin-bottom: 0.5em;}#sk-container-id-7 div.sk-estimator:hover {background-color: #d4ebff;}#sk-container-id-7 div.sk-parallel-item::after {content: \"\";width: 100%;border-bottom: 1px solid gray;flex-grow: 1;}#sk-container-id-7 div.sk-label:hover label.sk-toggleable__label {background-color: #d4ebff;}#sk-container-id-7 div.sk-serial::before {content: \"\";position: absolute;border-left: 1px solid gray;box-sizing: border-box;top: 0;bottom: 0;left: 50%;z-index: 0;}#sk-container-id-7 div.sk-serial {display: flex;flex-direction: column;align-items: center;background-color: white;padding-right: 0.2em;padding-left: 0.2em;position: relative;}#sk-container-id-7 div.sk-item {position: relative;z-index: 1;}#sk-container-id-7 div.sk-parallel {display: flex;align-items: stretch;justify-content: center;background-color: white;position: relative;}#sk-container-id-7 div.sk-item::before, #sk-container-id-7 div.sk-parallel-item::before {content: \"\";position: absolute;border-left: 1px solid gray;box-sizing: border-box;top: 0;bottom: 0;left: 50%;z-index: -1;}#sk-container-id-7 div.sk-parallel-item {display: flex;flex-direction: column;z-index: 1;position: relative;background-color: white;}#sk-container-id-7 div.sk-parallel-item:first-child::after {align-self: flex-end;width: 50%;}#sk-container-id-7 div.sk-parallel-item:last-child::after {align-self: flex-start;width: 50%;}#sk-container-id-7 div.sk-parallel-item:only-child::after {width: 0;}#sk-container-id-7 div.sk-dashed-wrapped {border: 1px dashed gray;margin: 0 0.4em 0.5em 0.4em;box-sizing: border-box;padding-bottom: 0.4em;background-color: white;}#sk-container-id-7 div.sk-label label {font-family: monospace;font-weight: bold;display: inline-block;line-height: 1.2em;}#sk-container-id-7 div.sk-label-container {text-align: center;}#sk-container-id-7 div.sk-container {/* jupyter's `normalize.less` sets `[hidden] { display: none; }` but bootstrap.min.css set `[hidden] { display: none !important; }` so we also need the `!important` here to be able to override the default hidden behavior on the sphinx rendered scikit-learn.org. See: https://github.com/scikit-learn/scikit-learn/issues/21755 */display: inline-block !important;position: relative;}#sk-container-id-7 div.sk-text-repr-fallback {display: none;}</style><div id=\"sk-container-id-7\" class=\"sk-top-container\"><div class=\"sk-text-repr-fallback\"><pre>LinearRegression()</pre><b>In a Jupyter environment, please rerun this cell to show the HTML representation or trust the notebook. <br />On GitHub, the HTML representation is unable to render, please try loading this page with nbviewer.org.</b></div><div class=\"sk-container\" hidden><div class=\"sk-item\"><div class=\"sk-estimator sk-toggleable\"><input class=\"sk-toggleable__control sk-hidden--visually\" id=\"sk-estimator-id-7\" type=\"checkbox\" checked><label for=\"sk-estimator-id-7\" class=\"sk-toggleable__label sk-toggleable__label-arrow\">LinearRegression</label><div class=\"sk-toggleable__content\"><pre>LinearRegression()</pre></div></div></div></div></div>"
            ]
          },
          "metadata": {},
          "execution_count": 156
        }
      ]
    },
    {
      "cell_type": "code",
      "source": [
        "c=lr.intercept_\n",
        "c"
      ],
      "metadata": {
        "colab": {
          "base_uri": "https://localhost:8080/"
        },
        "id": "7RLmiBh2SJEd",
        "outputId": "29a7fdc8-fbc6-4f1c-ec11-5560e49add97"
      },
      "execution_count": null,
      "outputs": [
        {
          "output_type": "execute_result",
          "data": {
            "text/plain": [
              "54.779696479109134"
            ]
          },
          "metadata": {},
          "execution_count": 157
        }
      ]
    },
    {
      "cell_type": "code",
      "source": [
        "m=lr.coef_\n",
        "a1=m[0]\n",
        "a2=m[1]\n",
        "a3=m[2]"
      ],
      "metadata": {
        "id": "X45l_njoSQBh"
      },
      "execution_count": null,
      "outputs": []
    },
    {
      "cell_type": "code",
      "source": [
        "a1,a2,a3"
      ],
      "metadata": {
        "colab": {
          "base_uri": "https://localhost:8080/"
        },
        "id": "3CCN5iESUrqt",
        "outputId": "4f2cb20b-d943-4b3f-8ad3-7194abe933d7"
      },
      "execution_count": null,
      "outputs": [
        {
          "output_type": "execute_result",
          "data": {
            "text/plain": [
              "(0.9495932101474651, 0.015337856936623009, 0.02067443273439914)"
            ]
          },
          "metadata": {},
          "execution_count": 159
        }
      ]
    },
    {
      "cell_type": "code",
      "source": [
        "x = pd.read_csv('/content/nasdaq00.txt', sep=',', header=None, index_col=None)\n",
        "x_2001=pd.read_csv('/content/nasdaq01.txt', sep=',', header=None, index_col=None)"
      ],
      "metadata": {
        "id": "A79ZgfIRW3Ni"
      },
      "execution_count": null,
      "outputs": []
    },
    {
      "cell_type": "code",
      "source": [
        "data=[]\n",
        "for t in range(4,len(x)):\n",
        "  y_pred=a1*x.iloc[t-1][0]+a2*x.iloc[t-2][0]+a3* x.iloc[t-3][0];\n",
        "  data.append([x.iloc[t-1][0], x.iloc[t-2][0], x.iloc[t-3][0],y_pred,x.iloc[t][0]])\n",
        "\n",
        "  df = pd.DataFrame(data, columns=['x1', 'x2', 'x3','y_pred', 'y'])\n",
        "print(df)"
      ],
      "metadata": {
        "colab": {
          "base_uri": "https://localhost:8080/"
        },
        "id": "zj4v5GhQYROA",
        "outputId": "73b5796c-f1fe-454e-8b06-9381373b07cf"
      },
      "execution_count": null,
      "outputs": [
        {
          "output_type": "stream",
          "name": "stdout",
          "text": [
            "          x1       x2       x3       y_pred        y\n",
            "0    4031.38  4002.23  3711.09  3966.281387  3950.95\n",
            "1    3950.95  4031.38  4002.23  3896.371858  3915.14\n",
            "2    3915.14  3950.95  4031.38  3861.735961  4045.72\n",
            "3    4045.72  3915.14  3950.95  3983.521749  4059.65\n",
            "4    4059.65  4045.72  3915.14  3998.012049  4116.27\n",
            "..       ...      ...      ...          ...      ...\n",
            "240  2310.21  2410.96  2617.06  2284.844921  2397.67\n",
            "241  2397.67  2310.21  2410.96  2362.090053  2518.29\n",
            "242  2518.29  2397.67  2310.21  2475.888486  2471.33\n",
            "243  2471.33  2518.29  2397.67  2434.953827  2517.90\n",
            "244  2517.90  2471.33  2518.29  2480.949867  2552.68\n",
            "\n",
            "[245 rows x 5 columns]\n"
          ]
        }
      ]
    },
    {
      "cell_type": "code",
      "source": [
        "y_pred=df['y_pred']\n",
        "print(y_pred)"
      ],
      "metadata": {
        "colab": {
          "base_uri": "https://localhost:8080/"
        },
        "id": "InY7O5Cdalsg",
        "outputId": "1279e6a4-f1a8-434a-c4d3-21e2de827fc2"
      },
      "execution_count": null,
      "outputs": [
        {
          "output_type": "stream",
          "name": "stdout",
          "text": [
            "0      3966.281387\n",
            "1      3896.371858\n",
            "2      3861.735961\n",
            "3      3983.521749\n",
            "4      3998.012049\n",
            "          ...     \n",
            "240    2284.844921\n",
            "241    2362.090053\n",
            "242    2475.888486\n",
            "243    2434.953827\n",
            "244    2480.949867\n",
            "Name: y_pred, Length: 245, dtype: float64\n"
          ]
        }
      ]
    },
    {
      "cell_type": "code",
      "source": [
        "y=df['y']\n",
        "print(y)"
      ],
      "metadata": {
        "colab": {
          "base_uri": "https://localhost:8080/"
        },
        "id": "fGN7EDOIa_Tt",
        "outputId": "c5b1c4da-3368-47ac-c7d2-bc484840574d"
      },
      "execution_count": null,
      "outputs": [
        {
          "output_type": "stream",
          "name": "stdout",
          "text": [
            "0      3950.95\n",
            "1      3915.14\n",
            "2      4045.72\n",
            "3      4059.65\n",
            "4      4116.27\n",
            "        ...   \n",
            "240    2397.67\n",
            "241    2518.29\n",
            "242    2471.33\n",
            "243    2517.90\n",
            "244    2552.68\n",
            "Name: y, Length: 245, dtype: float64\n"
          ]
        }
      ]
    },
    {
      "cell_type": "code",
      "source": [
        "import math\n",
        "MSE = np.square(np.subtract(y,y_pred)).mean()\n",
        "rsme = math.sqrt(MSE)\n",
        "rsme"
      ],
      "metadata": {
        "colab": {
          "base_uri": "https://localhost:8080/"
        },
        "id": "ACvsnQHVZsxr",
        "outputId": "1ec7d23a-2a16-43ca-cca3-34c7163ecfa5"
      },
      "execution_count": null,
      "outputs": [
        {
          "output_type": "execute_result",
          "data": {
            "text/plain": [
              "127.57048167149924"
            ]
          },
          "metadata": {},
          "execution_count": 164
        }
      ]
    },
    {
      "cell_type": "code",
      "source": [
        "data=[]\n",
        "for t in range(4,len(x_2001)):\n",
        "  y_pred=a1*x_2001.iloc[t-1][0]+a2*x_2001.iloc[t-2][0]+a3* x_2001.iloc[t-3][0];\n",
        "  data.append([x_2001.iloc[t-1][0], x_2001.iloc[t-2][0], x_2001.iloc[t-3][0],y_pred,x_2001.iloc[t][0]])\n",
        "\n",
        "  df = pd.DataFrame(data, columns=['x1', 'x2', 'x3','y_pred', 'y'])\n",
        "print(df)"
      ],
      "metadata": {
        "colab": {
          "base_uri": "https://localhost:8080/"
        },
        "id": "gB2DKlRpbXQa",
        "outputId": "88c059c4-8881-46e2-b9a6-90e1c5123cf1"
      },
      "execution_count": null,
      "outputs": [
        {
          "output_type": "stream",
          "name": "stdout",
          "text": [
            "          x1       x2       x3       y_pred        y\n",
            "0    2573.11  2593.96  2254.56  2529.805321  2388.72\n",
            "1    2388.72  2573.11  2593.96  2361.406938  2424.69\n",
            "2    2424.69  2388.72  2573.11  2392.304596  2392.71\n",
            "3    2392.71  2424.69  2388.72  2358.676149  2495.59\n",
            "4    2495.59  2392.71  2424.69  2456.623453  2639.56\n",
            "..       ...      ...      ...          ...      ...\n",
            "239  1941.55  1969.00  1981.65  1914.852427  1946.84\n",
            "240  1946.84  1941.55  1969.00  1919.193219  1948.77\n",
            "241  1948.77  1946.84  1941.55  1920.539558  1967.32\n",
            "242  1967.32  1948.77  1946.84  1938.293482  1985.71\n",
            "243  1985.71  1967.32  1948.77  1956.080920  1984.31\n",
            "\n",
            "[244 rows x 5 columns]\n"
          ]
        }
      ]
    },
    {
      "cell_type": "code",
      "source": [
        "y_pred=df['y_pred']\n",
        "print(y_pred)"
      ],
      "metadata": {
        "colab": {
          "base_uri": "https://localhost:8080/"
        },
        "id": "Ekv0yBHGboS4",
        "outputId": "4ffaa885-7734-4433-ed24-d27f47b7ae0c"
      },
      "execution_count": null,
      "outputs": [
        {
          "output_type": "stream",
          "name": "stdout",
          "text": [
            "0      2529.805321\n",
            "1      2361.406938\n",
            "2      2392.304596\n",
            "3      2358.676149\n",
            "4      2456.623453\n",
            "          ...     \n",
            "239    1914.852427\n",
            "240    1919.193219\n",
            "241    1920.539558\n",
            "242    1938.293482\n",
            "243    1956.080920\n",
            "Name: y_pred, Length: 244, dtype: float64\n"
          ]
        }
      ]
    },
    {
      "cell_type": "code",
      "source": [
        "y=df['y']\n",
        "print(y)"
      ],
      "metadata": {
        "colab": {
          "base_uri": "https://localhost:8080/"
        },
        "id": "6NY0L1SJbrxy",
        "outputId": "623be6b9-22f6-4fc7-ac42-058b530121eb"
      },
      "execution_count": null,
      "outputs": [
        {
          "output_type": "stream",
          "name": "stdout",
          "text": [
            "0      2388.72\n",
            "1      2424.69\n",
            "2      2392.71\n",
            "3      2495.59\n",
            "4      2639.56\n",
            "        ...   \n",
            "239    1946.84\n",
            "240    1948.77\n",
            "241    1967.32\n",
            "242    1985.71\n",
            "243    1984.31\n",
            "Name: y, Length: 244, dtype: float64\n"
          ]
        }
      ]
    },
    {
      "cell_type": "code",
      "source": [
        "import math\n",
        "MSE = np.square(np.subtract(y,y_pred)).mean()\n",
        "rsme = math.sqrt(MSE)\n",
        "rsme"
      ],
      "metadata": {
        "colab": {
          "base_uri": "https://localhost:8080/"
        },
        "id": "TDsNEe6Nbu5y",
        "outputId": "d80ecf59-7562-40cc-d0cf-dbf2b5e256fe"
      },
      "execution_count": null,
      "outputs": [
        {
          "output_type": "execute_result",
          "data": {
            "text/plain": [
              "60.664515501621636"
            ]
          },
          "metadata": {},
          "execution_count": 168
        }
      ]
    }
  ]
}