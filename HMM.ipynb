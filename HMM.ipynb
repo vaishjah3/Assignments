{
  "nbformat": 4,
  "nbformat_minor": 0,
  "metadata": {
    "colab": {
      "provenance": []
    },
    "kernelspec": {
      "name": "python3",
      "display_name": "Python 3"
    },
    "language_info": {
      "name": "python"
    }
  },
  "cells": [
    {
      "cell_type": "code",
      "execution_count": null,
      "metadata": {
        "id": "REJl7bi-n-nk"
      },
      "outputs": [],
      "source": [
        " import numpy as np\n",
        " import matplotlib.pyplot as plt\n",
        " %matplotlib inline\n",
        " import string\n",
        " import math"
      ]
    },
    {
      "cell_type": "code",
      "source": [
        "observations_fl='/content/observations.txt'\n",
        "initialdist_fl='/content/initialStateDistribution.txt'\n",
        "emission_mat_fl='/content/emissionMatrix.txt'\n",
        "transition_mat_fl='/content/transitionMatrix.txt'"
      ],
      "metadata": {
        "id": "su-lxwPbo2v4"
      },
      "execution_count": null,
      "outputs": []
    },
    {
      "cell_type": "code",
      "source": [
        "observations=np.loadtxt(observations_fl, dtype='int')\n",
        "initialdist=np.loadtxt(initialdist_fl)\n",
        "emission_mat=np.loadtxt(emission_mat_fl)\n",
        "transition_mat=np.loadtxt(transition_mat_fl)"
      ],
      "metadata": {
        "id": "-2-onb1zpzWC"
      },
      "execution_count": null,
      "outputs": []
    },
    {
      "cell_type": "code",
      "source": [
        "observations = observations.astype(int)"
      ],
      "metadata": {
        "id": "iok_lO0t3rjX"
      },
      "execution_count": null,
      "outputs": []
    },
    {
      "cell_type": "code",
      "source": [
        "print(initialdist.shape)\n",
        "print(observations.shape)\n",
        "print(transition_mat.shape)\n",
        "print(emission_mat.shape)"
      ],
      "metadata": {
        "colab": {
          "base_uri": "https://localhost:8080/"
        },
        "id": "LMu56n9b3xHX",
        "outputId": "bf732681-ef18-4e36-c26c-db20ccd963ee"
      },
      "execution_count": null,
      "outputs": [
        {
          "output_type": "stream",
          "name": "stdout",
          "text": [
            "(27,)\n",
            "(430000,)\n",
            "(27, 27)\n",
            "(27, 2)\n"
          ]
        }
      ]
    },
    {
      "cell_type": "code",
      "source": [
        "len(observations)"
      ],
      "metadata": {
        "colab": {
          "base_uri": "https://localhost:8080/"
        },
        "id": "80RLAchTrjEL",
        "outputId": "2939b60d-1f19-4561-e842-8e979317eb2a"
      },
      "execution_count": null,
      "outputs": [
        {
          "output_type": "execute_result",
          "data": {
            "text/plain": [
              "430000"
            ]
          },
          "metadata": {},
          "execution_count": 46
        }
      ]
    },
    {
      "cell_type": "code",
      "source": [
        "n=27 #no.of hidden states\n",
        "m=2\n",
        "T=430000"
      ],
      "metadata": {
        "id": "62EdohC6rXpi"
      },
      "execution_count": null,
      "outputs": []
    },
    {
      "cell_type": "code",
      "source": [
        "l=np.empty([n,T])\n",
        "print(l.shape)"
      ],
      "metadata": {
        "id": "qaqpii0Frfaj",
        "colab": {
          "base_uri": "https://localhost:8080/"
        },
        "outputId": "77dfc542-cf4a-4ccc-f956-8e971bed1c6b"
      },
      "execution_count": null,
      "outputs": [
        {
          "output_type": "stream",
          "name": "stdout",
          "text": [
            "(27, 430000)\n"
          ]
        }
      ]
    },
    {
      "cell_type": "code",
      "source": [
        "alphaDict=dict(zip(range(1,28), string.ascii_lowercase+' '))"
      ],
      "metadata": {
        "id": "YrPQfiXvsTSS"
      },
      "execution_count": null,
      "outputs": []
    },
    {
      "cell_type": "code",
      "source": [
        "l[:,0] = np.log(initialdist) + np.log(emission_mat[:, observations[0]])\n"
      ],
      "metadata": {
        "id": "CF2IUGEvtEzi"
      },
      "execution_count": null,
      "outputs": []
    },
    {
      "cell_type": "code",
      "source": [
        "phi = np.empty([n,T])\n",
        "phi[:,0] = initialdist\n",
        "print(phi.shape)"
      ],
      "metadata": {
        "id": "wauKs5wTtUHJ",
        "colab": {
          "base_uri": "https://localhost:8080/"
        },
        "outputId": "64321fa2-32ef-4982-f12a-a4ac91643165"
      },
      "execution_count": null,
      "outputs": [
        {
          "output_type": "stream",
          "name": "stdout",
          "text": [
            "(27, 430000)\n"
          ]
        }
      ]
    },
    {
      "cell_type": "code",
      "source": [
        "s = np.full(T, -1, dtype=int)"
      ],
      "metadata": {
        "id": "vvFYZOketsLj"
      },
      "execution_count": null,
      "outputs": []
    },
    {
      "cell_type": "code",
      "source": [
        "def update_mat(r,c):\n",
        "  '''This function computes computes l*_(j,t+1), phi_(j,t+1)'''\n",
        "  state_transitions = l[:,c-1] + np.log(transition_mat[:, r])\n",
        "  most_prob = int(np.argmax(state_transitions))\n",
        "  new_lne=np.amax(state_transitions) + np.log(emission_mat[r, observations[c]])\n",
        "  return most_prob, new_lne\n"
      ],
      "metadata": {
        "id": "k_Map-qDt9Bp"
      },
      "execution_count": null,
      "outputs": []
    },
    {
      "cell_type": "code",
      "source": [
        "def Backtracking(t_idx):\n",
        "    if t_idx == T-1:\n",
        "        return int(np.argmax(l[:,T-1]))\n",
        "    else:\n",
        "        return phi[s[t_idx+1], t_idx+1]"
      ],
      "metadata": {
        "id": "ZIEsLjmZ41jo"
      },
      "execution_count": null,
      "outputs": []
    },
    {
      "cell_type": "code",
      "source": [
        "def run_viterbi():\n",
        "  for t in range(T-1):\n",
        "    for j in range(n):\n",
        "      phi[j,t+1], l[j,t+1]=update_mat(j, t+1)\n",
        "  for t in range(T-1, -1, -1):\n",
        "    s[t]=int(Backtracking(t))"
      ],
      "metadata": {
        "id": "knomkFiUx-id"
      },
      "execution_count": null,
      "outputs": []
    },
    {
      "cell_type": "code",
      "source": [
        "def plot_hmm():\n",
        "  plt.plot(s)\n",
        "  plt.title('HIdden state vs time')\n",
        "  plt.xlabel('time')\n",
        "  plt.ylabel('Hidden states')"
      ],
      "metadata": {
        "id": "57IefBxBy8aW"
      },
      "execution_count": null,
      "outputs": []
    },
    {
      "cell_type": "code",
      "source": [
        "def decode_msg():\n",
        "  msg=[]\n",
        "  for t in range(T-1):\n",
        "    if s[t]!=s[t+1]:\n",
        "      msg.append(alphaDict.get(s[t]+1))\n",
        "    msg.append(alphaDict.get(s[T-1]+1))\n",
        "  return ''.join(msg)\n",
        "\n"
      ],
      "metadata": {
        "id": "IFT2CjTWzcZq"
      },
      "execution_count": null,
      "outputs": []
    },
    {
      "cell_type": "code",
      "source": [
        "run_viterbi()"
      ],
      "metadata": {
        "id": "ZtLCdFFDz_qr"
      },
      "execution_count": null,
      "outputs": []
    },
    {
      "cell_type": "code",
      "source": [
        "plot_hmm()"
      ],
      "metadata": {
        "colab": {
          "base_uri": "https://localhost:8080/",
          "height": 472
        },
        "id": "Il5N__a-2Rrd",
        "outputId": "f93d72e7-a995-407a-9223-5a709c546a91"
      },
      "execution_count": null,
      "outputs": [
        {
          "output_type": "display_data",
          "data": {
            "text/plain": [
              "<Figure size 640x480 with 1 Axes>"
            ],
            "image/png": "[encoded data removed]"
          },
          "metadata": {}
        }
      ]
    },
    {
      "cell_type": "code",
      "source": [
        "def decode():\n",
        "  message = []\n",
        "  for t in range(T-1):\n",
        "    if s[t] != s[t+1]:\n",
        "      message.append(alphaDict.get(s[t]+1))\n",
        "  message.append(alphaDict.get(s[T-1]+1))\n",
        "  return ''.join(message)\n"
      ],
      "metadata": {
        "id": "9R8j40m_2xTj"
      },
      "execution_count": null,
      "outputs": []
    },
    {
      "cell_type": "code",
      "source": [
        "hidden_message = decode()\n",
        "print(hidden_message)\n"
      ],
      "metadata": {
        "colab": {
          "base_uri": "https://localhost:8080/"
        },
        "id": "EVDtokR_2Uzn",
        "outputId": "551e15b2-8183-47a3-923b-f18138519179"
      },
      "execution_count": null,
      "outputs": [
        {
          "output_type": "stream",
          "name": "stdout",
          "text": [
            "a house divided against itself canot stand\n"
          ]
        }
      ]
    }
  ]
}